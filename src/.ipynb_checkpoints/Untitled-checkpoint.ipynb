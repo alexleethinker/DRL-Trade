{
 "cells": [
  {
   "cell_type": "code",
   "execution_count": 2,
   "id": "6cfdba27",
   "metadata": {},
   "outputs": [
    {
     "data": {
      "text/html": [
       "<style>.container { width:100% !important; }</style>"
      ],
      "text/plain": [
       "<IPython.core.display.HTML object>"
      ]
     },
     "metadata": {},
     "output_type": "display_data"
    }
   ],
   "source": [
    "from IPython.display import display, HTML\n",
    "display(HTML(\"<style>.container { width:100% !important; }</style>\"))"
   ]
  },
  {
   "cell_type": "code",
   "execution_count": 2,
   "id": "b976c26c",
   "metadata": {},
   "outputs": [
    {
     "name": "stdout",
     "output_type": "stream",
     "text": [
      "Loaded cached bar data.\n",
      "\n"
     ]
    }
   ],
   "source": [
    "from TradingEnv import StockTradingEnv\n",
    "from pybroker import YFinance\n",
    "import pybroker\n",
    "import pandas as pd\n",
    "pybroker.enable_data_source_cache('yfinance')\n",
    "from stable_baselines3.common.vec_env import DummyVecEnv\n",
    "\n",
    "\n",
    "yfinance = YFinance()\n",
    "df = yfinance.query(['AAPL'], start_date='3/1/2021', end_date='3/1/2022')\n",
    "df['date'] = pd.to_datetime(df['date']).dt.date\n",
    "\n",
    "\n",
    "# env_builder = lambda: gym.make('stocks-v0', df = df)\n",
    "# env = DummyVecEnv([env_builder])\n",
    "env = StockTradingEnv(df, initial_balance=100000, commission_fee=0.0001, slippage_cost=0.005)\n",
    "\n",
    "# env = DummyVecEnv([env])\n",
    "\n",
    "from stable_baselines3 import PPO\n",
    "\n",
    "model = PPO(\"MlpPolicy\", env, verbose=0)\n",
    "model.learn(total_timesteps=10_000)\n",
    "\n",
    "model.save(\"ppo_aapl\")\n",
    "\n",
    "del model # remove to demonstrate saving and loading\n",
    "\n"
   ]
  },
  {
   "cell_type": "code",
   "execution_count": 4,
   "id": "7344068b",
   "metadata": {},
   "outputs": [
    {
     "ename": "AttributeError",
     "evalue": "'NoneType' object has no attribute 'reset'",
     "output_type": "error",
     "traceback": [
      "\u001b[0;31m---------------------------------------------------------------------------\u001b[0m",
      "\u001b[0;31mAttributeError\u001b[0m                            Traceback (most recent call last)",
      "Cell \u001b[0;32mIn[4], line 4\u001b[0m\n\u001b[1;32m      1\u001b[0m model \u001b[38;5;241m=\u001b[39m PPO\u001b[38;5;241m.\u001b[39mload(\u001b[38;5;124m\"\u001b[39m\u001b[38;5;124mppo_aapl\u001b[39m\u001b[38;5;124m\"\u001b[39m)\n\u001b[1;32m      3\u001b[0m vec_env \u001b[38;5;241m=\u001b[39m model\u001b[38;5;241m.\u001b[39mget_env()\n\u001b[0;32m----> 4\u001b[0m obs \u001b[38;5;241m=\u001b[39m vec_env\u001b[38;5;241m.\u001b[39mreset()\n\u001b[1;32m      5\u001b[0m \u001b[38;5;28;01mfor\u001b[39;00m i \u001b[38;5;129;01min\u001b[39;00m \u001b[38;5;28mrange\u001b[39m(\u001b[38;5;28mlen\u001b[39m(df[\u001b[38;5;124m'\u001b[39m\u001b[38;5;124madj_close\u001b[39m\u001b[38;5;124m'\u001b[39m])):\n\u001b[1;32m      6\u001b[0m     action, _state \u001b[38;5;241m=\u001b[39m model\u001b[38;5;241m.\u001b[39mpredict(obs, deterministic\u001b[38;5;241m=\u001b[39m\u001b[38;5;28;01mTrue\u001b[39;00m)\n",
      "\u001b[0;31mAttributeError\u001b[0m: 'NoneType' object has no attribute 'reset'"
     ]
    }
   ],
   "source": [
    "model = PPO.load(\"ppo_aapl\")\n",
    "\n",
    "# vec_env = model.get_env()\n",
    "obs = env.reset()\n",
    "for i in range(len(df['adj_close'])):\n",
    "    action, _state = model.predict(obs, deterministic=True)\n",
    "    obs, reward, done, truncated, info = vec_env.step(action)\n",
    "\n",
    "\n",
    "vec_env.render_all()\n",
    "\n",
    "# observation = env.reset()\n",
    "# for _ in range(1, len(df['adj_close'])):\n",
    "#       # Display current state\n",
    "#     action = env.action_space.sample()  # Random action for demonstration\n",
    "#     observation, reward, done, truncated, info = env.step(action)\n",
    "    \n",
    "# env.render_all()"
   ]
  },
  {
   "cell_type": "code",
   "execution_count": null,
   "id": "4bf018de",
   "metadata": {},
   "outputs": [],
   "source": []
  },
  {
   "cell_type": "code",
   "execution_count": null,
   "id": "3d6ec4ba",
   "metadata": {},
   "outputs": [],
   "source": []
  }
 ],
 "metadata": {
  "kernelspec": {
   "display_name": "Python 3 (ipykernel)",
   "language": "python",
   "name": "python3"
  },
  "language_info": {
   "codemirror_mode": {
    "name": "ipython",
    "version": 3
   },
   "file_extension": ".py",
   "mimetype": "text/x-python",
   "name": "python",
   "nbconvert_exporter": "python",
   "pygments_lexer": "ipython3",
   "version": "3.11.4"
  }
 },
 "nbformat": 4,
 "nbformat_minor": 5
}
